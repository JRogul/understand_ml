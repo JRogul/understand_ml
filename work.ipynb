{
 "cells": [
  {
   "cell_type": "code",
   "execution_count": 1,
   "metadata": {},
   "outputs": [],
   "source": [
    "import numpy as np\n",
    "from sklearn import datasets\n",
    "from sklearn.model_selection import train_test_split\n",
    "import matplotlib.pyplot as plt\n",
    "from sklearn.metrics import classification_report\n",
    "\n",
    "from utils import metrics\n",
    "from utils import models\n",
    "from utils import plots\n",
    "\n",
    "np.set_printoptions(suppress=True)"
   ]
  },
  {
   "cell_type": "code",
   "execution_count": 2,
   "metadata": {},
   "outputs": [],
   "source": []
  },
  {
   "cell_type": "code",
   "execution_count": 3,
   "metadata": {},
   "outputs": [],
   "source": [
    "X1 = [3.2, 5.1,-1.7]\n",
    "X2 = [1.3, 4.9, 2.0]\n",
    "X3 = [2.2, 2.5, -3.1]\n",
    "y_true = np.array([0,0,0,0,1,0,0,1,1,1])\n",
    "y_pred= np.array([0,0,0,0,0,1,1,1,1,1])"
   ]
  },
  {
   "cell_type": "code",
   "execution_count": 4,
   "metadata": {},
   "outputs": [],
   "source": [
    "iris = datasets.load_iris()\n",
    "X = iris['data']\n",
    "X = X[:, [0, 2]]\n",
    "y = iris['target']\n",
    "X_train, X_test, y_train, y_test = train_test_split(X, y, test_size=0.2)"
   ]
  },
  {
   "cell_type": "code",
   "execution_count": 8,
   "metadata": {},
   "outputs": [],
   "source": [
    "def recall(y_true, y_pred):\n",
    "\n",
    "    recalls = []\n",
    "    for class_idx in range(len(np.unique(y_true))):\n",
    "        \n",
    "        num_correct =len(np.where((y_true == class_idx) & (y_pred == class_idx))[0])\n",
    "        total_true =  len(np.where(y_true == class_idx)[0])\n",
    "        print(num_correct, total_true)\n",
    "        if total_true == 0:\n",
    "            recalls.append(0)\n",
    "        else:            \n",
    "            recalls.append(num_correct / total_true)\n",
    "    \n",
    "    return np.array(recalls)\n"
   ]
  },
  {
   "cell_type": "code",
   "execution_count": 10,
   "metadata": {},
   "outputs": [
    {
     "name": "stdout",
     "output_type": "stream",
     "text": [
      "0 6\n",
      "0 13\n",
      "0 11\n"
     ]
    },
    {
     "data": {
      "text/plain": [
       "array([0., 0., 0.])"
      ]
     },
     "execution_count": 10,
     "metadata": {},
     "output_type": "execute_result"
    }
   ],
   "source": [
    "model = models.K_Nearest_Neighbors(3)\n",
    "model.fit(X_train, y_train)\n",
    "preds, y_true = model.predict(X_test, y_test)\n",
    "metrics.accuracy(y_true, preds)\n",
    "recall(y_true, preds)"
   ]
  },
  {
   "cell_type": "code",
   "execution_count": null,
   "metadata": {},
   "outputs": [],
   "source": []
  },
  {
   "cell_type": "code",
   "execution_count": 6,
   "metadata": {},
   "outputs": [
    {
     "data": {
      "image/png": "[encoded data removed]",
      "text/plain": [
       "<Figure size 640x480 with 1 Axes>"
      ]
     },
     "metadata": {},
     "output_type": "display_data"
    },
    {
     "name": "stdout",
     "output_type": "stream",
     "text": [
      "Accuracy: 0.9\n",
      "Recall: [0. 0. 0.]\n"
     ]
    }
   ],
   "source": [
    "plots.plot_decision_regions(X_test, y_test, model, return_metrics=True)"
   ]
  },
  {
   "cell_type": "code",
   "execution_count": null,
   "metadata": {},
   "outputs": [],
   "source": []
  }
 ],
 "metadata": {
  "kernelspec": {
   "display_name": "venv",
   "language": "python",
   "name": "python3"
  },
  "language_info": {
   "codemirror_mode": {
    "name": "ipython",
    "version": 3
   },
   "file_extension": ".py",
   "mimetype": "text/x-python",
   "name": "python",
   "nbconvert_exporter": "python",
   "pygments_lexer": "ipython3",
   "version": "3.9.12"
  },
  "orig_nbformat": 4
 },
 "nbformat": 4,
 "nbformat_minor": 2
}
